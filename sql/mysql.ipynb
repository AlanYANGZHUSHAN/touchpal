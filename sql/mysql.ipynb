{
 "cells": [
  {
   "cell_type": "markdown",
   "metadata": {},
   "source": [
    "## <center> mysql</center>"
   ]
  },
  {
   "cell_type": "markdown",
   "metadata": {},
   "source": [
    "## 启动服务\n",
    "    mysql -h 121.52.250.37 -ucootek -pcootek"
   ]
  },
  {
   "cell_type": "markdown",
   "metadata": {},
   "source": [
    "## 使用数据库database\n",
    "    show databases;\n",
    "    use oceanus"
   ]
  },
  {
   "cell_type": "markdown",
   "metadata": {},
   "source": [
    "## 使用数据库oceanus中的表\n",
    "    show tables;显示所有表格\n",
    "    select * from grab_cash_market_flow;显示表格所有记录\n",
    "    show create table grab_cash_market_flow; 显示创建表格命令，字段信息\n",
    "    insert into grab_cash_market_flow(joining_phone,cash_grabed_now) Values ('18817319905','500') 插入新的一行数据\n",
    "    update grab_cash_market_bind set remained_joining_num = remained_joining_num_1 where grabing_phone = '18817319905' 更新已有数据\n",
    "    delete from grab_cash_market_flow;晴空表格数据，表格仍在"
   ]
  },
  {
   "cell_type": "markdown",
   "metadata": {},
   "source": [
    "## 创建表格\n",
    "    \tcreate table if not exists grab_cash_market_bind(\n",
    "\t\tgrabed_from_phone varchar(16) not null default ''\n",
    "\t\tgrabing_phone varchar(16) not null default '',\n",
    "\t\tbinding_time timestamp default null ,\n",
    "\t\tregistered_time timestamp default null,\n",
    "\t\tgrabing_phone_status tinyint not null default 2,\n",
    "\t\tremained_joining_num tinyint not null default 1,\n",
    "\t\tprimary key (grabing_phone),\n",
    "\t\tindex (grabed_from_phone)\n",
    "\t\t )default charset=utf8;"
   ]
  },
  {
   "cell_type": "markdown",
   "metadata": {},
   "source": [
    "## 删除表格\n",
    "    drop grab_cash_market_bind;"
   ]
  },
  {
   "cell_type": "markdown",
   "metadata": {},
   "source": [
    "## key ， primary key ，unique key， index关系\n",
    "    key：普通的索引（不可以重复，方便快速查询）[约束、查询]\n",
    "    primary key：主键（唯一标识数据库表中的每条记录，值唯一，不能有null），每个表只能有一个primary key[约束、查询]\n",
    "    unique key:唯一标识表中的每条记录，值唯一，每个表可以有多个unique约束[约束、查询]\n",
    "    index:仅仅是索引，没有约束的作用，查询where语句"
   ]
  },
  {
   "cell_type": "code",
   "execution_count": null,
   "metadata": {
    "collapsed": true
   },
   "outputs": [],
   "source": []
  }
 ],
 "metadata": {
  "kernelspec": {
   "display_name": "Python 3",
   "language": "python",
   "name": "python3"
  },
  "language_info": {
   "codemirror_mode": {
    "name": "ipython",
    "version": 3
   },
   "file_extension": ".py",
   "mimetype": "text/x-python",
   "name": "python",
   "nbconvert_exporter": "python",
   "pygments_lexer": "ipython3",
   "version": "3.6.1"
  }
 },
 "nbformat": 4,
 "nbformat_minor": 2
}
