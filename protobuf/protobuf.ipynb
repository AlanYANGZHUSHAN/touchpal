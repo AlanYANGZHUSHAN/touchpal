{
 "cells": [
  {
   "cell_type": "markdown",
   "metadata": {},
   "source": [
    "# <center> protobuffer—消息载体 </center>"
   ]
  },
  {
   "cell_type": "markdown",
   "metadata": {},
   "source": [
    "## 编写*.proto文件\n",
    "    message people {\n",
    "    optional string name =1;\n",
    "    optional int32 height =2;\n",
    "    required string gender =3;\n",
    "    }\n",
    "    \n",
    "    message peoples{\n",
    "    repeated people people =1;\n",
    "    }\n",
    "    peoples的add()可实现批量定义peoples"
   ]
  },
  {
   "cell_type": "markdown",
   "metadata": {},
   "source": [
    "## 转化*_pb2.py文件(命令行)\n",
    "    protoc --python_out=./(转化的位置) ./*.proto"
   ]
  },
  {
   "cell_type": "markdown",
   "metadata": {},
   "source": [
    "## 调用*_pb2.py\n",
    "    import *_pb2.py\n",
    "    构建person case\n",
    "    p_1=*_pb2.people()\n",
    "    p_1.name='p_1'\n",
    "    p_1.height=176\n",
    "    p_1.gender='M'\n",
    "    二进制序列化(显示字符)\n",
    "    p_1_str=p_1.SeriaLizeToString()(str 格式)\n",
    "    再转回来\n",
    "    p_2=*_pb2.people()\n",
    "    p_2.ParseFromString(p_1_str)"
   ]
  },
  {
   "cell_type": "markdown",
   "metadata": {},
   "source": [
    "## 构建多个people case\n",
    "    p_s=*_pb2.peoples()\n",
    "    p_1=p_s.people.add()(repeated格式，add方法)\n",
    "    p_1.name='p_1'\n",
    "    p_1.height=176\n",
    "    p_1.gender='M'\n",
    "    p_2=p_s.people.add()(repeated格式，add方法)\n",
    "    p_2.name='p_2'\n",
    "    p_2.height=176\n",
    "    p_2.gender='M'\n",
    "    p_s_str=p_s.SeriaLizeToString()(str 格式)"
   ]
  },
  {
   "cell_type": "markdown",
   "metadata": {},
   "source": [
    "## 写入本地文件\n",
    "    f=open(\"data_proto\",'w')\n",
    "    f.write(p_s_str)\n",
    "    f.close()\n"
   ]
  },
  {
   "cell_type": "markdown",
   "metadata": {},
   "source": [
    "## 从本地载入\n",
    "    f=open(\"data_proto\",'r')\n",
    "    p_s_str=f.read()\n",
    "    f.close()\n",
    "    p_s=*_pb2.persons()\n",
    "    p_s.ParseFromString(p_s_str)"
   ]
  },
  {
   "cell_type": "markdown",
   "metadata": {},
   "source": [
    "## enum枚举类型\n",
    "    message people\n",
    "    {\n",
    "        enum PhoneType\n",
    "        {\n",
    "            MOBILE = 0;\n",
    "            HOME = 1;\n",
    "            WORK = 2;\n",
    "        }\n",
    "\n",
    "        message PhoneNumber\n",
    "        {\n",
    "            required string number = 1;\n",
    "            optional PhoneType type = 2 [default = HOME];\n",
    "        }\n",
    "        repeated PhoneNumber phone = 1\n",
    "    }\n",
    "    \n",
    "    调用 pkg.phone.type = pkg.WORK\n",
    "    或者 ----.phone=*_pb2.people.HOME"
   ]
  },
  {
   "cell_type": "code",
   "execution_count": null,
   "metadata": {
    "collapsed": true
   },
   "outputs": [],
   "source": []
  }
 ],
 "metadata": {
  "kernelspec": {
   "display_name": "Python 3",
   "language": "python",
   "name": "python3"
  },
  "language_info": {
   "codemirror_mode": {
    "name": "ipython",
    "version": 3
   },
   "file_extension": ".py",
   "mimetype": "text/x-python",
   "name": "python",
   "nbconvert_exporter": "python",
   "pygments_lexer": "ipython3",
   "version": "3.6.1"
  }
 },
 "nbformat": 4,
 "nbformat_minor": 2
}
