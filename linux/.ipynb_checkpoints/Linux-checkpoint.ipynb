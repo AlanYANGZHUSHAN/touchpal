{
 "cells": [
  {
   "cell_type": "markdown",
   "metadata": {},
   "source": [
    "## Linux 后台进程查看\n",
    "    ps -ef 查找所有\n",
    "    ps -ef| grep 查找进程\n",
    "    grep XXXX -r *"
   ]
  },
  {
   "cell_type": "markdown",
   "metadata": {},
   "source": [
    "## Linux pkill kill\n",
    "    ps -ef | grep 进程名称\n",
    "    kill-s 9 进程pid\n",
    "    或者\n",
    "    pkill -9 -f 进程名称\n",
    "    killall 杀所有的进程\n",
    "    xkill 杀图形界面的进程"
   ]
  },
  {
   "cell_type": "markdown",
   "metadata": {},
   "source": [
    "## Linux ctrl+alt+t 重新打开shell窗口"
   ]
  },
  {
   "cell_type": "markdown",
   "metadata": {},
   "source": [
    "## Linux vim :sp\n",
    "    :sp filename 开启一个新窗口，如果有加 filename， 表示在新窗口开启一个新文件，否则表示两个窗口为同一个文件内容(同步显示)。\n",
    "    ctrl+w+↓按键的按法是：先按下 ctrl 不放， 再按下 w 后放开所有的按键，然后再按下向下箭头键，则光标可移动到下方的窗口。"
   ]
  },
  {
   "cell_type": "markdown",
   "metadata": {},
   "source": [
    "## Linux vim 同时打开两个文件\n",
    "    :vsplit "
   ]
  },
  {
   "cell_type": "markdown",
   "metadata": {},
   "source": [
    "## Linux vim复制粘贴\n",
    "    复制，v模式下 ctrl +c\n",
    "    粘贴，i模式下 ctrl+p\n",
    "    i模式下 shift+insert外面的粘贴问题"
   ]
  },
  {
   "cell_type": "markdown",
   "metadata": {},
   "source": [
    "## Linux vim ctrl+p自动补全\n",
    "    i模式下，ctrl+p"
   ]
  },
  {
   "cell_type": "markdown",
   "metadata": {
    "collapsed": true
   },
   "source": [
    "## Linux vim shift+g跳到底部"
   ]
  },
  {
   "cell_type": "markdown",
   "metadata": {},
   "source": [
    "## Linux vim :768,跳转到768行"
   ]
  },
  {
   "cell_type": "markdown",
   "metadata": {},
   "source": [
    "## Linux vim 多行复制，剪切，删除\n",
    "    复制----:6,9co12将6-9行复制到12行后面\n",
    "    剪切----:6,9m12将6-9剪切到12行后面\n",
    "    删除----:6,9d将6-9行删除 或者直接2+dd表示删除光标一下的2行"
   ]
  },
  {
   "cell_type": "markdown",
   "metadata": {},
   "source": [
    "## Linux vim搜索\n",
    "    /+xxx（从上往下搜）\n",
    "    ?+xxx(从下往上搜)"
   ]
  },
  {
   "cell_type": "markdown",
   "metadata": {},
   "source": [
    "## Linux 缩进\n",
    "    shift+<后退tab\n",
    "    shift+>前进tab"
   ]
  },
  {
   "cell_type": "markdown",
   "metadata": {
    "collapsed": true
   },
   "source": [
    "## Linux ~/.vimrc文件配置\n",
    "    source ~/.vimrc"
   ]
  },
  {
   "cell_type": "markdown",
   "metadata": {},
   "source": [
    "## Linux shell 文件复制、删除\n",
    "    文件复制：cp 待复制路径+文件 目标路径和文件\n",
    "    文件删除：rm 文件名"
   ]
  },
  {
   "cell_type": "markdown",
   "metadata": {
    "collapsed": true
   },
   "source": [
    "## Linux shell 查看log文件,动态某一log\n",
    "    tail -f XXXXXX.log |grep 'XXXXXX'"
   ]
  },
  {
   "cell_type": "code",
   "execution_count": null,
   "metadata": {
    "collapsed": true
   },
   "outputs": [],
   "source": []
  }
 ],
 "metadata": {
  "kernelspec": {
   "display_name": "Python 3",
   "language": "python",
   "name": "python3"
  },
  "language_info": {
   "codemirror_mode": {
    "name": "ipython",
    "version": 3
   },
   "file_extension": ".py",
   "mimetype": "text/x-python",
   "name": "python",
   "nbconvert_exporter": "python",
   "pygments_lexer": "ipython3",
   "version": "3.6.1"
  }
 },
 "nbformat": 4,
 "nbformat_minor": 2
}
