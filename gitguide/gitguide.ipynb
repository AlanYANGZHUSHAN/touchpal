{
 "cells": [
  {
   "cell_type": "markdown",
   "metadata": {},
   "source": [
    "## <center>git guide</center>"
   ]
  },
  {
   "cell_type": "markdown",
   "metadata": {},
   "source": [
    "<center>by:Alan Yang (<a href = 'https://github.com/AlanYANGZHUSHAN'>github</a>)</center> \n",
    "<left><a  href= 'http://www.liaoxuefeng.com'>reference： Xuefeng Liao</a></left>"
   ]
  },
  {
   "cell_type": "markdown",
   "metadata": {},
   "source": [
    "## 将目录变为本地git仓库\n",
    "    git init\n",
    "    （生成.git文件夹【暂存区】）"
   ]
  },
  {
   "cell_type": "markdown",
   "metadata": {},
   "source": [
    "## 添加、上传修改过的文件\n",
    "    git add filename1 filename2\n",
    "    git commit -m 'some information'\n",
    "    (将工作区的文件上传至暂存区)"
   ]
  },
  {
   "cell_type": "markdown",
   "metadata": {},
   "source": [
    "## 仓库当前的状态、详细变化\n",
    "    仓库状态：git status\n",
    "    比较暂存区和工作区的不同：git diff filename1 filenme2"
   ]
  },
  {
   "cell_type": "markdown",
   "metadata": {},
   "source": [
    "## 查看提交日志\n",
    "    详细版的：git log\n",
    "    简洁版的：git log --pretty=oneline\n",
    "    （记录 commit_id）"
   ]
  },
  {
   "cell_type": "markdown",
   "metadata": {},
   "source": [
    "## 版本回退\n",
    "    在Git中，用HEAD表示当前版本，上一个版本就是HEAD^，上上一个版本就是HEAD^^，往上100个版本写100个^比较容易数不过来，写成HEAD~100。\n",
    "    git reset --hard HEAD^\n",
    "    git reset --hard HEAD^^\n",
    "    git reset --hard HEAD^~100\n",
    "    git reset --hard commit_id(可以回退到未来版本)\n",
    "    当不知道commit_id时候，git reflog查看commit记录和id"
   ]
  },
  {
   "cell_type": "markdown",
   "metadata": {},
   "source": [
    "## 撤销操作\n",
    "    修改了工作区，还没git add或者git commit ：git checkout -- filename\n",
    "    修改了工作区，已经git add到了暂存区，但没git commit,可以修改到版本库HEAD状态：git reset HEAD -- filename\n",
    "    修改了工作区，已经git add 和git commit，需要版本回退：git reset --hard commit_id"
   ]
  },
  {
   "cell_type": "markdown",
   "metadata": {},
   "source": [
    "## 分支管理\n",
    "    查看分支，git branch\n",
    "    建立分支，git branch new_branch_name\n",
    "    切换至分支：git checkout branch_name\n",
    "    (git checkout -b new_branch_name,创建分支，并切换)\n",
    "    将branch_name1分支合并至当前分支：git merge branch_name1\n",
    "    删除分支：git branch -d branch_name\n",
    "    用带参数的git log查看分支的合并情况: git log --graph --pretty=oneline --abbrev-commit\n",
    "    给当前分支贴标签：git tag branch_name1_tag\n",
    "    给commit_id分支贴标签：git tag commit_id_tag commit_id\n",
    "    查看所有标签：git tag\n",
    "    "
   ]
  },
  {
   "cell_type": "markdown",
   "metadata": {
    "collapsed": true
   },
   "source": [
    "## 上传远程仓库\n",
    "    关联远程仓库git remote add origin git@github.com:AlanYANGZHUSHAN/touchpal.git\n",
    "    当前分支master推送到远程：git push -u origin master\n",
    "    由于远程库是空的，第一次推送master分支时，加上了-u参数，Git不但会把本地的master分支内容推送的远程新的master分支，还会把本地的master分支和远程的master分支关联起来，在以后的推送或者拉取时就可以简化命令。\n",
    "    git push origin master"
   ]
  },
  {
   "cell_type": "code",
   "execution_count": null,
   "metadata": {
    "collapsed": true
   },
   "outputs": [],
   "source": []
  }
 ],
 "metadata": {
  "kernelspec": {
   "display_name": "Python 2",
   "language": "python",
   "name": "python2"
  },
  "language_info": {
   "codemirror_mode": {
    "name": "ipython",
    "version": 2
   },
   "file_extension": ".py",
   "mimetype": "text/x-python",
   "name": "python",
   "nbconvert_exporter": "python",
   "pygments_lexer": "ipython2",
   "version": "2.7.13"
  }
 },
 "nbformat": 4,
 "nbformat_minor": 2
}
